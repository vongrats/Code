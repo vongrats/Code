{
 "cells": [
  {
   "cell_type": "code",
   "execution_count": 21,
   "id": "43c41fa8-fedc-4897-b514-22755c7f1592",
   "metadata": {},
   "outputs": [
    {
     "name": "stdout",
     "output_type": "stream",
     "text": [
      "========\n",
      "Prison Break\n",
      "========\n",
      "You were in the wrong place at the wrong time. Innocent until proven guilty, my arse. \n",
      "You find yourself in a Russian prison and will be executed tomorrow for a crime \n",
      "you didn't commit. Find a way to the courtyard, drop a flare and get yourself \n",
      "out of there before the guards find you. Good luck!...\n",
      "========\n",
      "Commands:\n",
      "  go [direction], get [item], brief/verbose\n",
      "---------------------------\n",
      "You are in Cell 1.\n",
      "You are in a bleak cell.\n",
      "You can go:  E\n",
      "Inventory : []\n",
      "You see a key\n",
      "---------------------------\n"
     ]
    },
    {
     "name": "stdin",
     "output_type": "stream",
     "text": [
      "> get key\n"
     ]
    },
    {
     "name": "stdout",
     "output_type": "stream",
     "text": [
      "Got key!\n",
      "---------------------------\n",
      "You are in Cell 1.\n",
      "You are in a bleak cell.\n",
      "You can go:  E\n",
      "Inventory : ['key']\n",
      "---------------------------\n"
     ]
    },
    {
     "name": "stdin",
     "output_type": "stream",
     "text": [
      "> r\n"
     ]
    },
    {
     "name": "stdout",
     "output_type": "stream",
     "text": [
      "You can't do that!\n",
      "---------------------------\n",
      "You are in Cell 1.\n",
      "You are in a bleak cell.\n",
      "You can go:  E\n",
      "Inventory : ['key']\n",
      "---------------------------\n"
     ]
    },
    {
     "name": "stdin",
     "output_type": "stream",
     "text": [
      "> e\n"
     ]
    },
    {
     "name": "stdout",
     "output_type": "stream",
     "text": [
      "---------------------------\n",
      "You are in Block A.\n",
      "You are in a cell block hallway. There are cells north, south and west.\n",
      "You can go:  N, S, E, W\n",
      "Inventory : ['key']\n",
      "---------------------------\n"
     ]
    },
    {
     "name": "stdin",
     "output_type": "stream",
     "text": [
      "> e\n"
     ]
    },
    {
     "name": "stdout",
     "output_type": "stream",
     "text": [
      "---------------------------\n",
      "You are in Block B.\n",
      "You are in a cell block hallway. There are cells north and south.\n",
      "You can go:  N, S, E, W\n",
      "Inventory : ['key']\n",
      "---------------------------\n"
     ]
    },
    {
     "name": "stdin",
     "output_type": "stream",
     "text": [
      "> s\n"
     ]
    },
    {
     "name": "stdout",
     "output_type": "stream",
     "text": [
      "---------------------------\n",
      "You are in Cell 5.\n",
      "You are in an empty cell.\n",
      "You can go:  N\n",
      "Inventory : ['key']\n",
      "You see a keycard\n",
      "---------------------------\n"
     ]
    },
    {
     "name": "stdin",
     "output_type": "stream",
     "text": [
      "> get keycard\n"
     ]
    },
    {
     "name": "stdout",
     "output_type": "stream",
     "text": [
      "Got keycard!\n",
      "---------------------------\n",
      "You are in Cell 5.\n",
      "You are in an empty cell.\n",
      "You can go:  N\n",
      "Inventory : ['key', 'keycard']\n",
      "---------------------------\n"
     ]
    },
    {
     "name": "stdin",
     "output_type": "stream",
     "text": [
      "> n\n"
     ]
    },
    {
     "name": "stdout",
     "output_type": "stream",
     "text": [
      "---------------------------\n",
      "You are in Block B.\n",
      "You are in a cell block hallway. There are cells north and south.\n",
      "You can go:  N, S, E, W\n",
      "Inventory : ['key', 'keycard']\n",
      "---------------------------\n"
     ]
    },
    {
     "name": "stdin",
     "output_type": "stream",
     "text": [
      "> e\n"
     ]
    },
    {
     "name": "stdout",
     "output_type": "stream",
     "text": [
      "---------------------------\n",
      "You are in Block C.\n",
      "You are in a cell block hallway. There is a cell north and guard room south\n",
      "You can go:  N, S, E, W\n",
      "Inventory : ['key', 'keycard']\n",
      "You see a locked door\n",
      "---------------------------\n"
     ]
    },
    {
     "name": "stdin",
     "output_type": "stream",
     "text": [
      "> e\n"
     ]
    },
    {
     "name": "stdout",
     "output_type": "stream",
     "text": [
      "---------------------------\n",
      "You are in Hall.\n",
      "You are in a plain hallway.\n",
      "You can go:  W, S\n",
      "Inventory : ['key', 'keycard']\n",
      "You see a flare\n",
      "---------------------------\n"
     ]
    },
    {
     "name": "stdin",
     "output_type": "stream",
     "text": [
      "> s\n"
     ]
    },
    {
     "name": "stdout",
     "output_type": "stream",
     "text": [
      "---------------------------\n",
      "You are in Courtyard.\n",
      "You are in an outdoor courtyard. There is the sound of a helecopter in the distance.\n",
      "You can go:  N\n",
      "Inventory : ['key', 'keycard']\n",
      "You need the flare to escape!\n",
      "---------------------------\n"
     ]
    },
    {
     "name": "stdin",
     "output_type": "stream",
     "text": [
      "> n\n"
     ]
    },
    {
     "name": "stdout",
     "output_type": "stream",
     "text": [
      "---------------------------\n",
      "You are in Hall.\n",
      "You are in a plain hallway.\n",
      "You can go:  W, S\n",
      "Inventory : ['key', 'keycard']\n",
      "You see a flare\n",
      "---------------------------\n"
     ]
    },
    {
     "name": "stdin",
     "output_type": "stream",
     "text": [
      "> get flare\n"
     ]
    },
    {
     "name": "stdout",
     "output_type": "stream",
     "text": [
      "Got flare!\n",
      "---------------------------\n",
      "You are in Hall.\n",
      "You are in a plain hallway.\n",
      "You can go:  W, S\n",
      "Inventory : ['key', 'keycard', 'flare']\n",
      "---------------------------\n"
     ]
    },
    {
     "name": "stdin",
     "output_type": "stream",
     "text": [
      "> s\n"
     ]
    },
    {
     "name": "stdout",
     "output_type": "stream",
     "text": [
      "The flare signals a helecopter to come get you!\n",
      "A ladder drops in front of you and you climb up.\n",
      "Congratulations! You escaped the prison... YOU WIN!\n"
     ]
    }
   ],
   "source": [
    "\"\"\"\n",
    "Project:  Basic Text Role Playing Game (RPG)\n",
    "Author:   Sam Vongratana\n",
    "Notes:    A basic text based adventure. Mechanics inspired by Zork from the days of old...\n",
    "          Prison Break. Get out of prison without wandering guards seeing you.\n",
    "#!/bin/python3\n",
    "\"\"\"\n",
    "\n",
    "###   Initialization\n",
    "inventory = []    # Inventory, initially empty\n",
    "room_desc = True  # Verbose room descriptions by default. Turn to False for Brief descriptions.\n",
    "action_list = ['brief', 'get', 'go', 'verbose']    # list of possible actions\n",
    "go_list = ['n', 'e', 'w', 's', 'u', 'd', 'ne', 'nw', 'se', 'sw']    # List of possible directions\n",
    "\n",
    "###   Define\n",
    "def showInstructions():\n",
    "    #print a main menu and the commands\n",
    "    print('''========\n",
    "Commands:\n",
    "  go [direction], get [item], brief/verbose''')\n",
    "\n",
    "def showStatus():\n",
    "    #print the player's current status\n",
    "    print('---------------------------')\n",
    "    print('You are in ' + currentRoom + '.')\n",
    "    if room_desc == True :\n",
    "        print(rooms[currentRoom]['desc'])\n",
    "        print('You can go: ', rooms[currentRoom]['opening'])\n",
    "    #print the current inventory\n",
    "    print('Inventory : ' + str(inventory))\n",
    "    #print an item if there is one\n",
    "    if \"item\" in rooms[currentRoom]:\n",
    "        print('You see a ' + rooms[currentRoom]['item'])\n",
    "    if (currentRoom == 'Courtyard') and (any('flare' not in s for s in inventory)):\n",
    "        print('You need the flare to escape!')    \n",
    "    print(\"---------------------------\") \n",
    "\n",
    "#a dictionary linking a room to other rooms\n",
    "rooms = {\n",
    "        'Cell 1' : {\n",
    "            'desc' : 'You are in a bleak cell.',\n",
    "            'opening' : 'E',\n",
    "            'east' : 'Block A', 'e' : 'Block A',\n",
    "            'item' : 'key'},\n",
    "        'Cell 2' : {\n",
    "            'desc' : 'You are in an empty cell.',\n",
    "            'opening' : 'S',\n",
    "            'south' : 'Block A', 's' : 'Block A'},\n",
    "        'Cell 3' : {\n",
    "            'desc' : 'You are in an empty cell.',\n",
    "            'opening' : 'N',\n",
    "            'north' : 'Block A', 'n' : 'Block A'},\n",
    "        'Cell 4' : {\n",
    "            'desc' : 'You are in an empty cell.',\n",
    "            'opening' : 'S',\n",
    "            'south' : 'Block B', 's' : 'Block B'},\n",
    "        'Cell 5' : {\n",
    "            'desc' : 'You are in an empty cell.',\n",
    "            'opening' : 'N',\n",
    "            'north' : 'Block B', 'n' : 'Block B',\n",
    "            'item' : 'keycard'},\n",
    "        'Cell 6' : {\n",
    "            'desc' : 'You are in an empty cell.',\n",
    "            'opening' : 'S',\n",
    "            'south' : 'Block C', 's' : 'Block C'},\n",
    "        'Block A' : {\n",
    "            'desc' : 'You are in a cell block hallway. There are cells north, south and west.',\n",
    "            'opening' : 'N, S, E, W',\n",
    "            'west' : 'Cell 1', 'w' : 'Cell 1',\n",
    "            'north' : 'Cell 2', 'n' : 'Cell 2',\n",
    "            'south' : 'Cell 3', 's' : 'Cell 3',\n",
    "            'east' : 'Block B', 'e' : 'Block B'},\n",
    "        'Block B' : {\n",
    "            'desc' : 'You are in a cell block hallway. There are cells north and south.',\n",
    "            'opening' : 'N, S, E, W',\n",
    "            'west' : 'Block A', 'w' : 'Block A',\n",
    "            'north' : 'Cell 4', 'n' : 'Cell 4',\n",
    "            'south' : 'Cell 5', 's' : 'Cell 5',\n",
    "            'east' : 'Block C', 'e' : 'Block C'},\n",
    "        'Block C' : {\n",
    "            'desc' : 'You are in a cell block hallway. There is a cell north and guard room south',\n",
    "            'opening' : 'N, S, E, W',\n",
    "            'west' : 'Block B', 'w' : 'Block B',\n",
    "            'north' : 'Cell 6', 'n' : 'Cell 6',\n",
    "            'south' : 'Guard Office', 's' : 'Guard Office',\n",
    "            'east' : 'Hall', 'e' : 'Hall',\n",
    "            'item' : 'locked door'},\n",
    "        'Guard Office' : {\n",
    "            'desc' : 'You are in guard\\'s office.',\n",
    "            'opening' : 'N',\n",
    "            'north' : 'Block C', 'n' : 'Block C',\n",
    "            'item' : 'guard'},\n",
    "        'Hall' : {\n",
    "            'desc' : 'You are in a plain hallway.',\n",
    "            'opening' : 'W, S',\n",
    "            'west' : 'Block C', 'w' : 'Block C',\n",
    "            'south' : 'Courtyard', 's' : 'Courtyard',\n",
    "            'item' : 'flare'},\n",
    "        'Courtyard' : {\n",
    "            'desc' : 'You are in an outdoor courtyard. There is the sound of a helecopter in the distance.',\n",
    "            'opening' : 'N',\n",
    "            'north' : 'Hall', 'n' : 'Hall'}\n",
    "         }\n",
    "\n",
    "###   Main\n",
    "print('''========\n",
    "Prison Break\n",
    "========\n",
    "You were in the wrong place at the wrong time. Innocent until proven guilty, my arse. \n",
    "You find yourself in a Russian prison and will be executed tomorrow for a crime \n",
    "you didn't commit. Find a way to the courtyard, drop a flare and get yourself \n",
    "out of there before the guards find you. Good luck!...''')\n",
    "\n",
    "#start the player in the Hall\n",
    "currentRoom = 'Cell 1'\n",
    "showInstructions()\n",
    "\n",
    "#loop forever\n",
    "while True:\n",
    "\n",
    "    showStatus()\n",
    "\n",
    "    #get the player's next 'move'\n",
    "    #.split() breaks it up into an list array\n",
    "    #eg typing 'go east' would give the list:\n",
    "    #['go','east']\n",
    "    move = ''\n",
    "    while move == '':  \n",
    "        move = input('>')\n",
    "    \n",
    "    move = move.lower().split()\n",
    "\n",
    "    if (move[0] not in action_list) and (move[0] not in go_list):\n",
    "        print('You can\\'t do that!')\n",
    "\n",
    "    if move[0] == 'brief':\n",
    "        room_desc = False  \n",
    "    if move[0] == 'verbose':\n",
    "        room_desc = True  \n",
    "    \n",
    "    #if they type 'go' first\n",
    "    if move[0] == 'go':\n",
    "        #check that they are allowed wherever they want to go\n",
    "        if move[1] in rooms[currentRoom]:\n",
    "            #set the current room to the new room\n",
    "            currentRoom = rooms[currentRoom][move[1]]\n",
    "        #there is no door (link) to the new room\n",
    "        else:\n",
    "            print('You can\\'t go that way!')\n",
    "\n",
    "    if move[0] in go_list:\n",
    "        #check that they are allowed wherever they want to go\n",
    "        if move[0] in rooms[currentRoom]:\n",
    "            #set the current room to the new room\n",
    "            currentRoom = rooms[currentRoom][move[0]]\n",
    "        #there is no door (link) to the new room\n",
    "        else:\n",
    "            print('You can\\'t go that way!')\n",
    "    \n",
    "    #if they type 'get' first\n",
    "    if move[0] == 'get' :\n",
    "        #if the room contains an item, and the item is the one they want to get\n",
    "        if \"item\" in rooms[currentRoom] and move[1] in rooms[currentRoom]['item']:\n",
    "            #add the item to their inventory\n",
    "            inventory += [move[1]]\n",
    "            #display a helpful message\n",
    "            print('Got ' + move[1] + '!')\n",
    "            #delete the item from the room\n",
    "            del rooms[currentRoom]['item']\n",
    "        #otherwise, if the item isn't there to get\n",
    "        else:\n",
    "            #tell them they can't get it\n",
    "            print('Can\\'t get ' + move[1] + '!')\n",
    "\n",
    " \n",
    "    #player loses if they enter a room with a monster\n",
    "    if 'item' in rooms[currentRoom] and 'guard' in rooms[currentRoom]['item']:\n",
    "        print('Guards caught you... GAME OVER!')\n",
    "    \n",
    "        play_again = input(\"Play again? (y/n): \")\n",
    "        if (play_again.lower() != \"y\") or (play_again.lower() != \"yes\"):\n",
    "            break\n",
    "\n",
    "    #player wins is they get to the garden with the key and potion\n",
    "    if (currentRoom == 'Courtyard') and (any('flare' in s for s in inventory)):\n",
    "        \n",
    " #       if ('flare' in 'Courtyard'['item']):\n",
    "        print('The flare signals a helecopter to come get you!')\n",
    "        print('A ladder drops in front of you and you climb up.')\n",
    "        print('Congratulations! You escaped the prison... YOU WIN!')\n",
    "        break\n",
    "       \n",
    "        "
   ]
  },
  {
   "cell_type": "code",
   "execution_count": null,
   "id": "4d5efa51-f33f-47d8-a44d-bdb2ebc2e1fe",
   "metadata": {},
   "outputs": [],
   "source": []
  },
  {
   "cell_type": "code",
   "execution_count": null,
   "id": "85d8cf17-79cc-4cc8-b1f5-e9f293fbc2bf",
   "metadata": {},
   "outputs": [],
   "source": []
  },
  {
   "cell_type": "code",
   "execution_count": null,
   "id": "a7298a1c-1553-4218-b961-c50db736c2ee",
   "metadata": {},
   "outputs": [],
   "source": []
  }
 ],
 "metadata": {
  "kernelspec": {
   "display_name": "Python 3 (ipykernel)",
   "language": "python",
   "name": "python3"
  },
  "language_info": {
   "codemirror_mode": {
    "name": "ipython",
    "version": 3
   },
   "file_extension": ".py",
   "mimetype": "text/x-python",
   "name": "python",
   "nbconvert_exporter": "python",
   "pygments_lexer": "ipython3",
   "version": "3.11.5"
  }
 },
 "nbformat": 4,
 "nbformat_minor": 5
}
